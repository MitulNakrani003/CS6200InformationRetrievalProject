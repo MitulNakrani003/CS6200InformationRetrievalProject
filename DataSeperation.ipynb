{
 "cells": [
  {
   "cell_type": "code",
   "execution_count": 8,
   "metadata": {},
   "outputs": [],
   "source": [
    "import json\n",
    "\n",
    "def extract_data(input_file):\n",
    "    # Load the JSON data\n",
    "    with open(input_file, 'r', encoding='utf-8') as f:\n",
    "        data = json.load(f)\n",
    "    \n",
    "    # Extract queries\n",
    "    queries = []\n",
    "    for entry in data['dataset']:\n",
    "        query_obj = {\n",
    "            \"query_id\": entry['query_id'],\n",
    "            \"query\": entry['query'],\n",
    "            \"narrative\": entry['narrative']\n",
    "        }\n",
    "        queries.append(query_obj)\n",
    "    \n",
    "    # Extract documents with new unique IDs\n",
    "    documents = []\n",
    "    doc_id = 1  # Start document IDs from 1\n",
    "    \n",
    "    for entry in data['dataset']:\n",
    "        for doc in entry['documents']:\n",
    "            doc_obj = {\n",
    "                \"doc_id\": doc_id,\n",
    "                # \"query_id\": entry['query_id'],\n",
    "                \"title\": doc['title'],\n",
    "                \"content\": doc['content']\n",
    "            }\n",
    "            documents.append(doc_obj)\n",
    "            doc_id += 1  # Increment document ID for each document\n",
    "    \n",
    "    return queries, documents\n",
    "\n",
    "def save_to_json(data, output_file):\n",
    "    with open(output_file, 'w', encoding='utf-8') as f:\n",
    "        json.dump(data, f, indent=2, ensure_ascii=False)"
   ]
  },
  {
   "cell_type": "code",
   "execution_count": 9,
   "metadata": {},
   "outputs": [
    {
     "name": "stdout",
     "output_type": "stream",
     "text": [
      "Saved queries and documents.\n"
     ]
    }
   ],
   "source": [
    "input_file1 = \"data/longformer_summarized.json\"\n",
    "input_file2 = \"data/bart_summarized.json\"\n",
    "input_file3 = \"data/t5_summarized.json\"\n",
    "\n",
    "\n",
    "# Extract queries and documents\n",
    "queries1, documents1 = extract_data(input_file1)\n",
    "\n",
    "save_to_json({\"queries\": queries1}, \"data/queries.json\")\n",
    "save_to_json({\"documents\": documents1}, \"data/documentsLongformer.json\")\n",
    "\n",
    "\n",
    "queries2, documents2 = extract_data(input_file2)\n",
    "save_to_json({\"documents\": documents2}, \"data/documentsBart.json\")\n",
    "\n",
    "queries3, documents3 = extract_data(input_file3)\n",
    "save_to_json({\"documents\": documents3}, \"data/documentsT5.json\")\n",
    "\n",
    "print(\"Saved queries and documents.\")"
   ]
  },
  {
   "cell_type": "code",
   "execution_count": 11,
   "metadata": {},
   "outputs": [],
   "source": [
    "def extract_documents_from_json(input_file):\n",
    "    # Load the JSON data\n",
    "    with open(input_file, 'r', encoding='utf-8') as f:\n",
    "        data = json.load(f)\n",
    "    \n",
    "    # Extract documents\n",
    "    documents = []\n",
    "    doc_id = 1  # Start document IDs from 1\n",
    "    \n",
    "    # Determine if we're working with the document_content structure\n",
    "    if 'document_content' in str(data):\n",
    "        # This means we have a structure with document_content\n",
    "        for document in data.get('documents', []):\n",
    "            if 'document_content' in document:\n",
    "                try:\n",
    "                    # Parse the document_content as JSON\n",
    "                    content_data = json.loads(document.get('document_content', '{}'))\n",
    "                    # Process dataset entries\n",
    "                    for entry in content_data.get('dataset', []):\n",
    "                        for doc in entry.get('documents', []):\n",
    "                            doc_obj = {\n",
    "                                \"doc_id\": doc_id,\n",
    "                                \"title\": doc.get('title', ''),\n",
    "                                \"content\": doc.get('content', '')\n",
    "                            }\n",
    "                            documents.append(doc_obj)\n",
    "                            doc_id += 1\n",
    "                except json.JSONDecodeError:\n",
    "                    print(f\"Could not parse document_content as JSON\")\n",
    "    else:\n",
    "        # Process regular dataset structure\n",
    "        for entry in data.get('dataset', []):\n",
    "            for doc in entry.get('documents', []):\n",
    "                doc_obj = {\n",
    "                    \"doc_id\": doc_id,\n",
    "                    \"title\": doc.get('title', ''),\n",
    "                    \"content\": doc.get('content', '')\n",
    "                }\n",
    "                documents.append(doc_obj)\n",
    "                doc_id += 1\n",
    "    \n",
    "    return documents\n",
    "\n",
    "def save_to_json(data, output_file):\n",
    "    with open(output_file, 'w', encoding='utf-8') as f:\n",
    "        json.dump(data, f, indent=2, ensure_ascii=False)"
   ]
  },
  {
   "cell_type": "code",
   "execution_count": 13,
   "metadata": {},
   "outputs": [
    {
     "name": "stdout",
     "output_type": "stream",
     "text": [
      "Extracted documents and saved to 'documents.json'.\n"
     ]
    }
   ],
   "source": [
    "input_file4 = \"data/WikipediaRelevantDocs.json\"\n",
    "documents4 = extract_documents_from_json(input_file4)\n",
    "save_to_json({\"documents\": documents4}, \"data/documentsOriginal.json\")\n",
    "print(f\"Extracted documents and saved to 'documents.json'.\")"
   ]
  },
  {
   "cell_type": "code",
   "execution_count": null,
   "metadata": {},
   "outputs": [],
   "source": []
  }
 ],
 "metadata": {
  "kernelspec": {
   "display_name": "Python 3",
   "language": "python",
   "name": "python3"
  },
  "language_info": {
   "codemirror_mode": {
    "name": "ipython",
    "version": 3
   },
   "file_extension": ".py",
   "mimetype": "text/x-python",
   "name": "python",
   "nbconvert_exporter": "python",
   "pygments_lexer": "ipython3",
   "version": "3.13.2"
  }
 },
 "nbformat": 4,
 "nbformat_minor": 2
}
